{
  "cells": [
    {
      "cell_type": "markdown",
      "metadata": {
        "id": "view-in-github",
        "colab_type": "text"
      },
      "source": [
        "<a href=\"https://colab.research.google.com/github/Preksha-Dadoo/Plagiarism-Checker/blob/main/Plagiarism_Checker.ipynb\" target=\"_parent\"><img src=\"https://colab.research.google.com/assets/colab-badge.svg\" alt=\"Open In Colab\"/></a>"
      ]
    },
    {
      "cell_type": "code",
      "execution_count": 25,
      "metadata": {
        "id": "j2d3QhvvFf2I"
      },
      "outputs": [],
      "source": [
        "import pandas as pd\n",
        "from itertools import combinations\n",
        "from sklearn.feature_extraction.text import TfidfVectorizer #CONVERTS TEXT DATA TO NUMERIACLA DATA\n",
        "from sklearn.metrics.pairwise import cosine_similarity"
      ]
    },
    {
      "cell_type": "code",
      "execution_count": 26,
      "metadata": {
        "id": "rg9ZkdCK7_gG"
      },
      "outputs": [],
      "source": [
        "def read_file(filename):\n",
        "    \"\"\"Reads the content of a file and returns it as a string.\"\"\"\n",
        "    with open(filename, 'r', encoding='utf-8') as file:\n",
        "        return file.read()"
      ]
    },
    {
      "cell_type": "code",
      "execution_count": 27,
      "metadata": {
        "id": "dLH2nLE5FdPF"
      },
      "outputs": [],
      "source": [
        "def check_plagiarism(files, output_csv=\"plagiarism_results.csv\"):\n",
        "    \"\"\"Compares plagiarism between every pair of files and saves the result in a CSV file.\"\"\"\n",
        "    file_contents = [read_file(file) for file in files]  # Read all file contents\n",
        "\n",
        "    vectorizer = TfidfVectorizer()  # Initialize TF-IDF vectorizer\n",
        "    vectors = vectorizer.fit_transform(file_contents)  # Convert text into numerical vectors\n",
        "\n",
        "    similarity_matrix = cosine_similarity(vectors)  # Compute cosine similarity\n",
        "\n",
        "    # Store results in a list of dictionaries\n",
        "    results = []\n",
        "    for (i, j) in combinations(range(len(files)), 2):\n",
        "        similarity_score = similarity_matrix[i, j] * 100  # Convert to percentage\n",
        "        print(f\"Similarity between {files[i]} and {files[j]}: {similarity_score:.2f}%\")\n",
        "\n",
        "        # Append results to the list\n",
        "        results.append({\"File 1\": files[i], \"File 2\": files[j], \"Similarity (%)\": similarity_score})\n",
        "\n",
        "    # Save results to CSV\n",
        "    df = pd.DataFrame(results)\n",
        "    df.to_csv(output_csv, index=False)\n",
        "    print(f\"Results saved to {output_csv}\")"
      ]
    },
    {
      "cell_type": "code",
      "execution_count": 28,
      "metadata": {
        "id": "OEaDBexCFdk2",
        "colab": {
          "base_uri": "https://localhost:8080/"
        },
        "outputId": "3561ec24-0065-4a35-c517-788f09dcb78f"
      },
      "outputs": [
        {
          "output_type": "stream",
          "name": "stdout",
          "text": [
            "Similarity between /content/Arthur.txt and /content/Ben.txt: 45.95%\n",
            "Similarity between /content/Arthur.txt and /content/Clark.txt: 54.30%\n",
            "Similarity between /content/Ben.txt and /content/Clark.txt: 40.89%\n",
            "Results saved to plagiarism_results.csv\n"
          ]
        }
      ],
      "source": [
        "# List of files to compare\n",
        "files = [\"/content/Arthur.txt\", \"/content/Ben.txt\", \"/content/Clark.txt\"]\n",
        "\n",
        "# Run plagiarism check\n",
        "check_plagiarism(files)"
      ]
    }
  ],
  "metadata": {
    "colab": {
      "provenance": [],
      "authorship_tag": "ABX9TyOl/ZsVsyLYbAUTI0QO50ww",
      "include_colab_link": true
    },
    "kernelspec": {
      "display_name": "Python 3",
      "name": "python3"
    },
    "language_info": {
      "name": "python"
    }
  },
  "nbformat": 4,
  "nbformat_minor": 0
}